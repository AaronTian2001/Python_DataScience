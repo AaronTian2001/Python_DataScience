{
 "cells": [
  {
   "attachments": {},
   "cell_type": "markdown",
   "metadata": {},
   "source": [
    "## Pandas教程\n",
    "> Pandas是数据分析中一个重要的包<br />\n",
    "> Pandas是基于Numpy创建的Python库，为Python提供了方便的数据结构和数据分析的方法"
   ]
  },
  {
   "cell_type": "code",
   "execution_count": 1,
   "metadata": {},
   "outputs": [],
   "source": [
    "# 引入Pandas包\n",
    "import pandas as pd"
   ]
  },
  {
   "attachments": {},
   "cell_type": "markdown",
   "metadata": {},
   "source": [
    "#### Pandas 数据类型"
   ]
  },
  {
   "cell_type": "code",
   "execution_count": 2,
   "metadata": {},
   "outputs": [
    {
     "data": {
      "text/plain": [
       "A    1\n",
       "B    2\n",
       "C    3\n",
       "D    4\n",
       "dtype: int64"
      ]
     },
     "execution_count": 2,
     "metadata": {},
     "output_type": "execute_result"
    }
   ],
   "source": [
    "# Creating Series       创建 序列（一维数组）\n",
    "s = pd.Series([1,2,3,4], index=['A', 'B', 'C', 'D'])\n",
    "s"
   ]
  },
  {
   "cell_type": "code",
   "execution_count": null,
   "metadata": {},
   "outputs": [],
   "source": [
    "# Creating DataFrame        创建 数据框\n",
    "df = pd.DataFrame(\n",
    "    {\n",
    "        \"A\":[11,22,33],\n",
    "        \"B\":[44,55,66],\n",
    "        \"C\":[77,88,99]\n",
    "    },\n",
    "    index=[1,2,3]\n",
    ")\n",
    "df"
   ]
  },
  {
   "cell_type": "code",
   "execution_count": null,
   "metadata": {},
   "outputs": [],
   "source": [
    "# Special value for each column(index)\n",
    "# 为每一行设置自定义的索引名\n",
    "df = pd.DataFrame(\n",
    "    {\n",
    "        \"A\":[11,22,33],\n",
    "        \"B\":[44,55,66],\n",
    "        \"C\":[77,88,99]\n",
    "    },\n",
    "    index=[1,2,3]\n",
    ")\n",
    "df\n"
   ]
  },
  {
   "cell_type": "code",
   "execution_count": null,
   "metadata": {},
   "outputs": [],
   "source": [
    "# Special value for each column(index)\n",
    "# 为每一列设置自定义的列名\n",
    "df = pd.DataFrame(\n",
    "        [[11,22,33],\n",
    "        [44,55,66],\n",
    "        [77,88,99]],\n",
    "    index=[1,2,3],\n",
    "    columns=['A', 'B', \"C\"]\n",
    ")\n",
    "df"
   ]
  },
  {
   "attachments": {},
   "cell_type": "markdown",
   "metadata": {},
   "source": [
    "#### 获取帮助"
   ]
  },
  {
   "cell_type": "code",
   "execution_count": null,
   "metadata": {},
   "outputs": [],
   "source": [
    "help(pd.Series.loc)"
   ]
  },
  {
   "cell_type": "code",
   "execution_count": null,
   "metadata": {},
   "outputs": [],
   "source": [
    "df.index"
   ]
  }
 ],
 "metadata": {
  "kernelspec": {
   "display_name": "base",
   "language": "python",
   "name": "python3"
  },
  "language_info": {
   "codemirror_mode": {
    "name": "ipython",
    "version": 3
   },
   "file_extension": ".py",
   "mimetype": "text/x-python",
   "name": "python",
   "nbconvert_exporter": "python",
   "pygments_lexer": "ipython3",
   "version": "3.9.7"
  },
  "orig_nbformat": 4
 },
 "nbformat": 4,
 "nbformat_minor": 2
}
